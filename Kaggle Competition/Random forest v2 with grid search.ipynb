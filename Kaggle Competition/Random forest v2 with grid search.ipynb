{
 "cells": [
  {
   "cell_type": "markdown",
   "id": "25f8a19f",
   "metadata": {},
   "source": [
    "# Model creation - random forest"
   ]
  },
  {
   "cell_type": "code",
   "execution_count": 1,
   "id": "59f30f5e",
   "metadata": {},
   "outputs": [],
   "source": [
    "# imports\n",
    "from numpy import mean\n",
    "from numpy import std\n",
    "from matplotlib import pyplot as plt\n",
    "import pandas as pd\n",
    "from sklearn.model_selection import cross_val_score\n",
    "from sklearn.ensemble import RandomForestClassifier\n",
    "from sklearn.model_selection import RepeatedStratifiedKFold\n",
    "from sklearn.model_selection import GridSearchCV"
   ]
  },
  {
   "cell_type": "code",
   "execution_count": 2,
   "id": "5573df47",
   "metadata": {},
   "outputs": [
    {
     "name": "stdout",
     "output_type": "stream",
     "text": [
      "   Unnamed: 0    id     season  stage                 date  home_team_api_id  \\\n",
      "0           0  1729  2008/2009      1  2008-08-17 00:00:00                 1   \n",
      "1           1  1730  2008/2009      1  2008-08-16 00:00:00                 2   \n",
      "2           2  1731  2008/2009      1  2008-08-16 00:00:00                 3   \n",
      "3           3  1732  2008/2009      1  2008-08-16 00:00:00                 4   \n",
      "4           4  1733  2008/2009      1  2008-08-17 00:00:00                 5   \n",
      "\n",
      "   away_team_api_id  home_team_goal  away_team_goal  B365H  ...  PSH   PSD  \\\n",
      "0                13               1               1   1.29  ...  2.2  3.67   \n",
      "1                16               1               0   1.20  ...  2.2  3.67   \n",
      "2                12               0               1   5.50  ...  2.2  3.67   \n",
      "3                20               2               1   1.91  ...  2.2  3.67   \n",
      "4                18               4               2   1.91  ...  2.2  3.67   \n",
      "\n",
      "    PSA   WHH  WHD    WHA   VCH  VCD    VCA  outcome  \n",
      "0  3.64  1.25  4.5  10.00  1.28  5.5  12.00        0  \n",
      "1  3.64  1.17  5.5  12.00  1.25  6.0  13.00        1  \n",
      "2  3.64  5.50  3.3   1.57  5.50  3.8   1.65       -1  \n",
      "3  3.64  1.83  3.2   3.75  1.90  3.5   4.35        1  \n",
      "4  3.64  1.91  3.2   3.50  1.90  3.5   4.35        1  \n",
      "\n",
      "[5 rows x 28 columns]\n",
      "   stage  B365H  B365D  B365A  IWH  IWD    IWA   LBH  LBD    LBA  PSH   PSD  \\\n",
      "0      1   1.29    5.5  11.00  1.3  4.4   8.50  1.25  4.5  10.00  2.2  3.67   \n",
      "1      1   1.20    6.5  15.00  1.2  5.2  11.00  1.20  5.0  11.00  2.2  3.67   \n",
      "2      1   5.50    3.6   1.67  4.5  3.5   1.65  4.50  3.3   1.67  2.2  3.67   \n",
      "3      1   1.91    3.4   4.20  1.8  3.3   3.80  1.80  3.2   4.00  2.2  3.67   \n",
      "4      1   1.91    3.4   4.33  2.0  3.2   3.30  1.83  3.2   3.75  2.2  3.67   \n",
      "\n",
      "    PSA   WHH  WHD    WHA   VCH  VCD    VCA  \n",
      "0  3.64  1.25  4.5  10.00  1.28  5.5  12.00  \n",
      "1  3.64  1.17  5.5  12.00  1.25  6.0  13.00  \n",
      "2  3.64  5.50  3.3   1.57  5.50  3.8   1.65  \n",
      "3  3.64  1.83  3.2   3.75  1.90  3.5   4.35  \n",
      "4  3.64  1.91  3.2   3.50  1.90  3.5   4.35  \n",
      "19\n"
     ]
    }
   ],
   "source": [
    "# read processed csv file\n",
    "train = pd.read_csv(\"train_p.csv\")\n",
    "print(train.head())\n",
    "\n",
    "train_ind = train.copy()\n",
    "train_ind.drop(labels=[\"outcome\", \"id\", \"season\", \"home_team_goal\", \"away_team_goal\", \"date\", \"Unnamed: 0\", \"home_team_api_id\", \"away_team_api_id\"], axis=1,inplace=True)\n",
    "print(train_ind.head())\n",
    "\n",
    "print(len(train_ind.columns))"
   ]
  },
  {
   "cell_type": "code",
   "execution_count": 3,
   "id": "594c8651",
   "metadata": {},
   "outputs": [],
   "source": [
    "def normalize(df):\n",
    "    dfMod = df.copy()\n",
    "    for column in dfMod.columns:\n",
    "        dfMod[column] =(dfMod[column]-dfMod[column].min())/(dfMod[column].max()-dfMod[column].min())\n",
    "        #dfMod = dfMod.rename(columns = {column:f\"{column}Normalized\"})\n",
    "    return dfMod\n",
    "\n",
    "dfMod = normalize(train_ind)\n"
   ]
  },
  {
   "cell_type": "code",
   "execution_count": 4,
   "id": "74f827b4",
   "metadata": {},
   "outputs": [],
   "source": [
    "# check correlation\n",
    "\n",
    "cor_df = pd.DataFrame(dfMod.iloc[:,2:19].corr())\n",
    "\n",
    "#cor_df.to_csv(\"correlation_matrix.csv\")\n"
   ]
  },
  {
   "cell_type": "code",
   "execution_count": 7,
   "id": "4cd8fa06",
   "metadata": {},
   "outputs": [],
   "source": [
    "from sklearn.model_selection import train_test_split\n",
    "\n",
    "\n",
    "X = dfMod[[\"IWH\",\"LBH\", \"PSH\", \"PSD\",\"PSA\",\"WHH\",\"VCH\", \"VCD\", \"IWD\"]] #used reduced dataset of the variables that are highly correlated with less than 4 other variables(else remove the columns to keep)\n",
    "y = train[\"outcome\"]\n",
    "\n",
    "X_train, X_test, y_train, y_test = train_test_split(X, y, test_size=0.20, random_state=1)"
   ]
  },
  {
   "cell_type": "code",
   "execution_count": 10,
   "id": "78f29867",
   "metadata": {
    "scrolled": true
   },
   "outputs": [
    {
     "name": "stdout",
     "output_type": "stream",
     "text": [
      "   stage  B365H  B365D  B365A  IWH  IWD    IWA   LBH  LBD    LBA  PSH   PSD  \\\n",
      "0      1   1.29    5.5  11.00  1.3  4.4   8.50  1.25  4.5  10.00  2.2  3.67   \n",
      "1      1   1.20    6.5  15.00  1.2  5.2  11.00  1.20  5.0  11.00  2.2  3.67   \n",
      "2      1   5.50    3.6   1.67  4.5  3.5   1.65  4.50  3.3   1.67  2.2  3.67   \n",
      "3      1   1.91    3.4   4.20  1.8  3.3   3.80  1.80  3.2   4.00  2.2  3.67   \n",
      "4      1   1.91    3.4   4.33  2.0  3.2   3.30  1.83  3.2   3.75  2.2  3.67   \n",
      "\n",
      "    PSA   WHH  WHD    WHA   VCH  VCD    VCA  \n",
      "0  3.64  1.25  4.5  10.00  1.28  5.5  12.00  \n",
      "1  3.64  1.17  5.5  12.00  1.25  6.0  13.00  \n",
      "2  3.64  5.50  3.3   1.57  5.50  3.8   1.65  \n",
      "3  3.64  1.83  3.2   3.75  1.90  3.5   4.35  \n",
      "4  3.64  1.91  3.2   3.50  1.90  3.5   4.35  \n",
      "Index(['stage', 'B365H', 'B365D', 'B365A', 'IWH', 'IWD', 'IWA', 'LBH', 'LBD',\n",
      "       'LBA', 'PSH', 'PSD', 'PSA', 'WHH', 'WHD', 'WHA', 'VCH', 'VCD', 'VCA'],\n",
      "      dtype='object')\n"
     ]
    },
    {
     "data": {
      "text/plain": [
       "RandomForestClassifier(max_features='log2', n_estimators=1000)"
      ]
     },
     "execution_count": 10,
     "metadata": {},
     "output_type": "execute_result"
    }
   ],
   "source": [
    "# random forest model\n",
    "\n",
    "# fit final model\n",
    "forest_model = RandomForestClassifier(max_features = \"log2\", n_estimators=1000)\n",
    "\n",
    "print(train_ind.head())\n",
    "print(train_ind.columns)\n",
    "forest_model.fit(X_train,y_train)\n"
   ]
  },
  {
   "cell_type": "code",
   "execution_count": 9,
   "id": "a69d43e1",
   "metadata": {},
   "outputs": [
    {
     "name": "stdout",
     "output_type": "stream",
     "text": [
      "Best: 0.482381 using {'max_features': 'log2', 'n_estimators': 1000}\n",
      "0.454048 (0.028582) with: {'max_features': 'sqrt', 'n_estimators': 10}\n",
      "0.478452 (0.027595) with: {'max_features': 'sqrt', 'n_estimators': 100}\n",
      "0.481429 (0.028353) with: {'max_features': 'sqrt', 'n_estimators': 1000}\n",
      "0.458214 (0.025003) with: {'max_features': 'log2', 'n_estimators': 10}\n",
      "0.476905 (0.028582) with: {'max_features': 'log2', 'n_estimators': 100}\n",
      "0.482381 (0.029507) with: {'max_features': 'log2', 'n_estimators': 1000}\n"
     ]
    }
   ],
   "source": [
    "#defining parameters\n",
    "n_estimators = [10, 100, 1000]\n",
    "max_features = ['sqrt', 'log2']\n",
    "\n",
    "# define grid search\n",
    "grid = dict(n_estimators=n_estimators,max_features=max_features)\n",
    "cv = RepeatedStratifiedKFold(n_splits=10, n_repeats=3, random_state=1)\n",
    "grid_search = GridSearchCV(estimator=forest_model, param_grid=grid, n_jobs=-1, cv=cv, scoring='accuracy',error_score=0)\n",
    "grid_result = grid_search.fit(X, y)\n",
    "# summarize results\n",
    "print(\"Best: %f using %s\" % (grid_result.best_score_, grid_result.best_params_))\n",
    "means = grid_result.cv_results_['mean_test_score']\n",
    "stds = grid_result.cv_results_['std_test_score']\n",
    "params = grid_result.cv_results_['params']\n",
    "for mean, stdev, param in zip(means, stds, params):\n",
    "    print(\"%f (%f) with: %r\" % (mean, stdev, param))"
   ]
  },
  {
   "cell_type": "code",
   "execution_count": 11,
   "id": "266d4c4a",
   "metadata": {},
   "outputs": [
    {
     "name": "stdout",
     "output_type": "stream",
     "text": [
      "Accuracy - classifier on test set: 0.5161\n"
     ]
    }
   ],
   "source": [
    "y_pred = forest_model.predict(X_test)\n",
    "print('Accuracy - classifier on test set: {:.4f}'.format(forest_model.score(X_test, y_test)))"
   ]
  },
  {
   "cell_type": "code",
   "execution_count": 12,
   "id": "a85a6bca",
   "metadata": {},
   "outputs": [
    {
     "ename": "TypeError",
     "evalue": "'numpy.float64' object is not callable",
     "output_type": "error",
     "traceback": [
      "\u001b[1;31m---------------------------------------------------------------------------\u001b[0m",
      "\u001b[1;31mTypeError\u001b[0m                                 Traceback (most recent call last)",
      "\u001b[1;32m<ipython-input-12-4ecab169a184>\u001b[0m in \u001b[0;36m<module>\u001b[1;34m\u001b[0m\n\u001b[0;32m      5\u001b[0m \u001b[1;33m\u001b[0m\u001b[0m\n\u001b[0;32m      6\u001b[0m \u001b[1;31m# report performance\u001b[0m\u001b[1;33m\u001b[0m\u001b[1;33m\u001b[0m\u001b[1;33m\u001b[0m\u001b[0m\n\u001b[1;32m----> 7\u001b[1;33m \u001b[0mprint\u001b[0m\u001b[1;33m(\u001b[0m\u001b[1;34m'Accuracy: %.3f (%.3f)'\u001b[0m \u001b[1;33m%\u001b[0m \u001b[1;33m(\u001b[0m\u001b[0mmean\u001b[0m\u001b[1;33m(\u001b[0m\u001b[0mn_scores\u001b[0m\u001b[1;33m)\u001b[0m\u001b[1;33m,\u001b[0m \u001b[0mstd\u001b[0m\u001b[1;33m(\u001b[0m\u001b[0mn_scores\u001b[0m\u001b[1;33m)\u001b[0m\u001b[1;33m)\u001b[0m\u001b[1;33m)\u001b[0m\u001b[1;33m\u001b[0m\u001b[1;33m\u001b[0m\u001b[0m\n\u001b[0m",
      "\u001b[1;31mTypeError\u001b[0m: 'numpy.float64' object is not callable"
     ]
    }
   ],
   "source": [
    "# model evaluation - cross validation\n",
    "\n",
    "cv = RepeatedStratifiedKFold(n_splits=10, n_repeats=3, random_state=1)\n",
    "n_scores = cross_val_score(forest_model, X, y, scoring='accuracy', cv=cv, n_jobs=-1, error_score='raise')\n",
    "\n",
    "# report performance\n",
    "print('Accuracy: %.3f (%.3f)' % (mean(n_scores), std(n_scores)))\n"
   ]
  },
  {
   "cell_type": "code",
   "execution_count": 107,
   "id": "70b93a30",
   "metadata": {},
   "outputs": [
    {
     "name": "stdout",
     "output_type": "stream",
     "text": [
      "[[ 83  21  62]\n",
      " [ 45  30  74]\n",
      " [ 34  45 166]]\n"
     ]
    }
   ],
   "source": [
    "# confusion matrix\n",
    "from sklearn.metrics import confusion_matrix\n",
    "\n",
    "confusion_matrix = confusion_matrix(y_test, y_pred)\n",
    "print(confusion_matrix)"
   ]
  },
  {
   "cell_type": "markdown",
   "id": "5cdc146e",
   "metadata": {},
   "source": [
    "# TEST DATASET\n"
   ]
  },
  {
   "cell_type": "code",
   "execution_count": 13,
   "id": "36bb8794",
   "metadata": {},
   "outputs": [
    {
     "data": {
      "text/plain": [
       "Index(['Unnamed: 0', 'id', 'season', 'stage', 'date', 'home_team_api_id',\n",
       "       'away_team_api_id', 'B365H', 'B365D', 'B365A', 'BWH', 'BWD', 'BWA',\n",
       "       'IWH', 'IWD', 'IWA', 'LBH', 'LBD', 'LBA', 'PSH', 'PSD', 'PSA', 'WHH',\n",
       "       'WHD', 'WHA', 'SJH', 'SJD', 'SJA', 'VCH', 'VCD', 'VCA', 'GBH', 'GBD',\n",
       "       'GBA', 'BSH', 'BSD', 'BSA', 'outcome'],\n",
       "      dtype='object')"
      ]
     },
     "execution_count": 13,
     "metadata": {},
     "output_type": "execute_result"
    }
   ],
   "source": [
    "test_set = pd.read_csv(\"test_p.csv\")\n",
    "test_set.columns"
   ]
  },
  {
   "cell_type": "code",
   "execution_count": 14,
   "id": "117a473e",
   "metadata": {
    "scrolled": false
   },
   "outputs": [
    {
     "name": "stdout",
     "output_type": "stream",
     "text": [
      "   stage  B365H  B365D  B365A   BWH   BWD    BWA   IWH  IWD   IWA  ...    LBA  \\\n",
      "0     15   1.29   6.00  13.00  1.26  6.25  10.50  1.22  5.5  12.0  ...  12.00   \n",
      "1     15   1.36   5.25   9.50  1.38  5.00   8.00  1.35  4.8   7.6  ...   9.00   \n",
      "2     15   2.10   3.60   3.75  2.10  3.30   3.40  2.00  3.3   3.6  ...   3.60   \n",
      "3     15   1.44   4.50   9.00  1.44  4.33   8.00  1.40  4.4   7.3  ...   8.50   \n",
      "4     15   5.75   4.33   1.62  5.50  4.00   1.62  5.40  3.7   1.6  ...   1.57   \n",
      "\n",
      "    PSH   PSD    PSA   WHH   WHD    WHA   VCH   VCD    VCA  \n",
      "0  1.28  6.14  13.53  1.29  5.00  12.00  1.29  5.75  13.00  \n",
      "1  1.38  5.23   9.75  1.36  4.50   9.00  1.36  5.25  10.00  \n",
      "2  2.06  3.63   3.88  2.00  3.30   3.75  2.05  3.60   3.80  \n",
      "3  1.43  4.70   9.06  1.44  3.80   9.00  1.44  4.50   9.00  \n",
      "4  5.75  4.35   1.62  5.50  3.75   1.62  6.00  4.20   1.62  \n",
      "\n",
      "[5 rows x 22 columns]\n"
     ]
    }
   ],
   "source": [
    "test_ind =test_set.copy()\n",
    "test_ind.drop(labels=[\"id\", \"Unnamed: 0\",\"outcome\", \"season\", \"date\", \"home_team_api_id\", \"away_team_api_id\", \"GBH\", \"GBD\", \"GBA\", \"BSH\", \"BSD\", \"BSD\", \"BSA\", \"SJA\", \"SJD\", \"SJH\"], axis=1,inplace=True)\n",
    "print(test_ind.head())"
   ]
  },
  {
   "cell_type": "code",
   "execution_count": 15,
   "id": "f70082c2",
   "metadata": {},
   "outputs": [
    {
     "name": "stdout",
     "output_type": "stream",
     "text": [
      "Columns in test dataset including null values:\n",
      "BWH\n",
      "BWD\n",
      "BWA\n"
     ]
    }
   ],
   "source": [
    "print(\"Columns in test dataset including null values:\")\n",
    "list_names_test = []\n",
    "for i in test_ind.columns:\n",
    "    if test_ind[i].isnull().values.any() == True:\n",
    "        print(i)\n",
    "        list_names_test.append(i)\n",
    "    else:\n",
    "        continue"
   ]
  },
  {
   "cell_type": "code",
   "execution_count": 16,
   "id": "61b71ab6",
   "metadata": {},
   "outputs": [
    {
     "name": "stdout",
     "output_type": "stream",
     "text": [
      "22\n"
     ]
    },
    {
     "data": {
      "image/png": "[encoded data removed]",
      "text/plain": [
       "<Figure size 1080x3600 with 3 Axes>"
      ]
     },
     "metadata": {
      "needs_background": "light"
     },
     "output_type": "display_data"
    }
   ],
   "source": [
    "\n",
    "print(len(test_ind.columns))\n",
    "\n",
    "for i, column in enumerate(test_ind[list_names_test].columns):\n",
    "    ax = plt.subplot(17, 2, i + 1)\n",
    "    test_ind[column].hist(bins = 30, ax = ax, figsize = (15, 50))\n",
    "    ax.set_title(column) \n",
    "plt.show()\n",
    "\n"
   ]
  },
  {
   "cell_type": "code",
   "execution_count": 17,
   "id": "cc64c6b7",
   "metadata": {},
   "outputs": [
    {
     "data": {
      "text/plain": [
       "Index(['stage', 'B365H', 'B365D', 'B365A', 'IWH', 'IWD', 'IWA', 'LBH', 'LBD',\n",
       "       'LBA', 'PSH', 'PSD', 'PSA', 'WHH', 'WHD', 'WHA', 'VCH', 'VCD', 'VCA'],\n",
       "      dtype='object')"
      ]
     },
     "execution_count": 17,
     "metadata": {},
     "output_type": "execute_result"
    }
   ],
   "source": [
    "\n",
    "test_ind= test_ind.fillna(test_ind.median())\n",
    "test_ind.head()\n",
    "\n",
    "test_ind.drop(labels=['BWH', 'BWD', 'BWA'], axis=1, inplace=True)\n",
    "\n",
    "test_ind.columns"
   ]
  },
  {
   "cell_type": "code",
   "execution_count": 18,
   "id": "dd43e22b",
   "metadata": {},
   "outputs": [
    {
     "data": {
      "text/plain": [
       "array([-1, -1, -1, -1, -1, -1, -1, -1, -1, -1, -1, -1, -1, -1, -1, -1, -1,\n",
       "       -1, -1, -1, -1, -1, -1, -1, -1, -1, -1, -1, -1, -1, -1, -1, -1, -1,\n",
       "       -1, -1, -1, -1, -1, -1, -1, -1, -1, -1, -1, -1, -1, -1, -1, -1, -1,\n",
       "       -1, -1, -1, -1, -1, -1, -1, -1, -1, -1, -1, -1, -1, -1, -1, -1, -1,\n",
       "       -1, -1, -1, -1, -1, -1, -1, -1, -1, -1, -1, -1, -1, -1, -1, -1, -1,\n",
       "       -1, -1, -1, -1, -1, -1, -1, -1, -1, -1, -1, -1, -1, -1, -1, -1, -1,\n",
       "       -1, -1, -1, -1, -1, -1, -1, -1, -1, -1, -1, -1, -1, -1, -1, -1, -1,\n",
       "       -1, -1, -1, -1, -1, -1, -1, -1, -1, -1, -1, -1, -1, -1, -1, -1, -1,\n",
       "       -1, -1, -1, -1, -1, -1, -1, -1, -1, -1, -1, -1, -1, -1, -1, -1, -1,\n",
       "       -1, -1, -1, -1, -1, -1, -1, -1, -1, -1, -1, -1, -1, -1, -1, -1, -1,\n",
       "       -1, -1, -1, -1, -1, -1, -1, -1, -1, -1, -1, -1, -1, -1, -1, -1, -1,\n",
       "       -1, -1, -1, -1, -1, -1, -1, -1, -1, -1, -1, -1, -1, -1, -1, -1, -1,\n",
       "       -1, -1, -1, -1, -1, -1, -1, -1, -1, -1, -1, -1, -1, -1, -1, -1, -1,\n",
       "       -1, -1, -1, -1, -1, -1, -1, -1, -1, -1, -1, -1, -1, -1, -1, -1, -1,\n",
       "       -1, -1], dtype=int64)"
      ]
     },
     "execution_count": 18,
     "metadata": {},
     "output_type": "execute_result"
    }
   ],
   "source": [
    "model_test2 = forest_model.predict(test_ind[[\"IWH\",\"LBH\", \"PSH\", \"PSD\",\"PSA\",\"WHH\",\"VCH\", \"VCD\", \"IWD\"]])\n",
    "model_test2"
   ]
  },
  {
   "cell_type": "markdown",
   "id": "7ecc1ab5",
   "metadata": {},
   "source": [
    "# Submission file"
   ]
  },
  {
   "cell_type": "code",
   "execution_count": 19,
   "id": "f259ea35",
   "metadata": {},
   "outputs": [
    {
     "data": {
      "text/html": [
       "<div>\n",
       "<style scoped>\n",
       "    .dataframe tbody tr th:only-of-type {\n",
       "        vertical-align: middle;\n",
       "    }\n",
       "\n",
       "    .dataframe tbody tr th {\n",
       "        vertical-align: top;\n",
       "    }\n",
       "\n",
       "    .dataframe thead th {\n",
       "        text-align: right;\n",
       "    }\n",
       "</style>\n",
       "<table border=\"1\" class=\"dataframe\">\n",
       "  <thead>\n",
       "    <tr style=\"text-align: right;\">\n",
       "      <th></th>\n",
       "      <th>outcome</th>\n",
       "    </tr>\n",
       "    <tr>\n",
       "      <th>id</th>\n",
       "      <th></th>\n",
       "    </tr>\n",
       "  </thead>\n",
       "  <tbody>\n",
       "    <tr>\n",
       "      <th>4449</th>\n",
       "      <td>-1</td>\n",
       "    </tr>\n",
       "    <tr>\n",
       "      <th>4450</th>\n",
       "      <td>-1</td>\n",
       "    </tr>\n",
       "    <tr>\n",
       "      <th>4451</th>\n",
       "      <td>-1</td>\n",
       "    </tr>\n",
       "    <tr>\n",
       "      <th>4452</th>\n",
       "      <td>-1</td>\n",
       "    </tr>\n",
       "    <tr>\n",
       "      <th>4453</th>\n",
       "      <td>-1</td>\n",
       "    </tr>\n",
       "    <tr>\n",
       "      <th>...</th>\n",
       "      <td>...</td>\n",
       "    </tr>\n",
       "    <tr>\n",
       "      <th>4704</th>\n",
       "      <td>-1</td>\n",
       "    </tr>\n",
       "    <tr>\n",
       "      <th>4705</th>\n",
       "      <td>-1</td>\n",
       "    </tr>\n",
       "    <tr>\n",
       "      <th>4706</th>\n",
       "      <td>-1</td>\n",
       "    </tr>\n",
       "    <tr>\n",
       "      <th>4707</th>\n",
       "      <td>-1</td>\n",
       "    </tr>\n",
       "    <tr>\n",
       "      <th>4708</th>\n",
       "      <td>-1</td>\n",
       "    </tr>\n",
       "  </tbody>\n",
       "</table>\n",
       "<p>240 rows × 1 columns</p>\n",
       "</div>"
      ],
      "text/plain": [
       "      outcome\n",
       "id           \n",
       "4449       -1\n",
       "4450       -1\n",
       "4451       -1\n",
       "4452       -1\n",
       "4453       -1\n",
       "...       ...\n",
       "4704       -1\n",
       "4705       -1\n",
       "4706       -1\n",
       "4707       -1\n",
       "4708       -1\n",
       "\n",
       "[240 rows x 1 columns]"
      ]
     },
     "execution_count": 19,
     "metadata": {},
     "output_type": "execute_result"
    }
   ],
   "source": [
    "upload_df = pd.DataFrame(test_set[\"id\"])\n",
    "\n",
    "upload_df[\"outcome\"] = model_test2\n",
    "\n",
    "upload_df = upload_df.set_index(\"id\")\n",
    "\n",
    "upload_df"
   ]
  },
  {
   "cell_type": "code",
   "execution_count": 20,
   "id": "b0ceb816",
   "metadata": {},
   "outputs": [],
   "source": [
    "upload_df.to_csv(\"random_forest_outcome_6_param_short_log_2.csv\")"
   ]
  }
 ],
 "metadata": {
  "kernelspec": {
   "display_name": "Python 3",
   "language": "python",
   "name": "python3"
  },
  "language_info": {
   "codemirror_mode": {
    "name": "ipython",
    "version": 3
   },
   "file_extension": ".py",
   "mimetype": "text/x-python",
   "name": "python",
   "nbconvert_exporter": "python",
   "pygments_lexer": "ipython3",
   "version": "3.8.8"
  }
 },
 "nbformat": 4,
 "nbformat_minor": 5
}
