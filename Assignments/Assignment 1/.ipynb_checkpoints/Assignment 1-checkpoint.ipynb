{
 "cells": [
  {
   "cell_type": "markdown",
   "id": "234d82fa",
   "metadata": {},
   "source": [
    "# Assignment 1"
   ]
  },
  {
   "cell_type": "markdown",
   "id": "a644a588",
   "metadata": {},
   "source": [
    "Instructions:\n",
    "Given the list my_list."
   ]
  },
  {
   "cell_type": "code",
   "execution_count": 4,
   "id": "ca198355",
   "metadata": {},
   "outputs": [],
   "source": [
    "my_list = [2,5,7,3,8,9,5,7,4,6,2,3,6,8,7,6,9,7,4,5,6,3]"
   ]
  },
  {
   "cell_type": "markdown",
   "id": "8f44fc48",
   "metadata": {},
   "source": [
    "Write the code that generates a list my_ind, which contains the indeces of the\n",
    "values from my_list that are bigger than 7 or smaller than 3."
   ]
  },
  {
   "cell_type": "markdown",
   "id": "2365d0fb",
   "metadata": {},
   "source": [
    "Code and the result:"
   ]
  },
  {
   "cell_type": "code",
   "execution_count": 20,
   "id": "2988fc4f",
   "metadata": {
    "scrolled": true
   },
   "outputs": [
    {
     "name": "stdout",
     "output_type": "stream",
     "text": [
      "A list my_ind is the following:\n",
      "[0, 4, 5, 10, 13, 16]\n"
     ]
    }
   ],
   "source": [
    "my_ind = []\n",
    "for ind in range(len(my_list)):\n",
    "    if my_list[ind] > 7 or my_list[ind] < 3:\n",
    "        my_ind.append(ind)\n",
    "        \n",
    "print(\"A list my_ind is the following:\")\n",
    "print(my_ind)"
   ]
  }
 ],
 "metadata": {
  "kernelspec": {
   "display_name": "Python 3",
   "language": "python",
   "name": "python3"
  },
  "language_info": {
   "codemirror_mode": {
    "name": "ipython",
    "version": 3
   },
   "file_extension": ".py",
   "mimetype": "text/x-python",
   "name": "python",
   "nbconvert_exporter": "python",
   "pygments_lexer": "ipython3",
   "version": "3.8.8"
  }
 },
 "nbformat": 4,
 "nbformat_minor": 5
}
