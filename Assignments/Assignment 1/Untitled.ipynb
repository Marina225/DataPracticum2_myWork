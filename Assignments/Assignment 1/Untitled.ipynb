{
 "cells": [
  {
   "cell_type": "code",
   "execution_count": 6,
   "id": "ce4dfc91",
   "metadata": {},
   "outputs": [
    {
     "name": "stdout",
     "output_type": "stream",
     "text": [
      "List index-value are : \n",
      "[2, 5, 7, 3, 8, 9, 5, 7, 4, 6, 2, 3, 6, 8, 7, 6, 9, 7, 4, 5, 6, 3]\n",
      "[0, 4, 5, 10, 13, 16]\n"
     ]
    }
   ],
   "source": [
    "print (\"List index-value are : \")\n",
    "my_list = [2,5,7,3,8,9,5,7,4,6,2,3,6,8,7,6,9,7,4,5,6,3]\n",
    "my_ind = []\n",
    "for index in range(len(my_list)):\n",
    "     if my_list[index] > 7 or my_list[index] <3:\n",
    "            my_ind.append(index)\n",
    "print(my_list)\n",
    "print(my_ind)"
   ]
  },
  {
   "cell_type": "code",
   "execution_count": 7,
   "id": "2201bc13",
   "metadata": {},
   "outputs": [
    {
     "name": "stdout",
     "output_type": "stream",
     "text": [
      "List index-value are : \n",
      "0 2\n",
      "1 5\n",
      "2 7\n",
      "3 3\n",
      "4 8\n",
      "5 9\n",
      "6 5\n",
      "7 7\n",
      "8 4\n",
      "9 6\n",
      "10 2\n",
      "11 3\n",
      "12 6\n",
      "13 8\n",
      "14 7\n",
      "15 6\n",
      "16 9\n",
      "17 7\n",
      "18 4\n",
      "19 5\n",
      "20 6\n",
      "21 3\n"
     ]
    }
   ],
   "source": [
    "print (\"List index-value are : \")\n",
    "my_list = [2,5,7,3,8,9,5,7,4,6,2,3,6,8,7,6,9,7,4,5,6,3]\n",
    "\n",
    "for i in range(len(my_list)):\n",
    "    print (i, end = \" \")\n",
    "    print (my_list[i])\n",
    "    \n",
    "my_ind = []\n",
    "for index in range(len(my_list)):\n",
    "     if my_list[index] > 7 or my_list[index] <3:\n",
    "            my_ind.append(index)\n",
    "print(my_list)\n",
    "print(my_ind)"
   ]
  },
  {
   "cell_type": "code",
   "execution_count": 8,
   "id": "9fd3273d",
   "metadata": {},
   "outputs": [
    {
     "name": "stdout",
     "output_type": "stream",
     "text": [
      "Indeces of the values from my_list that are bigger than 7 or smaller than 3: [0, 4, 5, 10, 13, 16]\n"
     ]
    }
   ],
   "source": [
    "res = [x for x in range(len(my_list)) if my_list[x] > 7 or my_list[x] <3] \n",
    " \n",
    "print (\"Indeces of the values from my_list that are bigger than 7 or smaller than 3: \" + str(res))"
   ]
  },
  {
   "cell_type": "code",
   "execution_count": null,
   "id": "c12ad9e2",
   "metadata": {},
   "outputs": [],
   "source": []
  }
 ],
 "metadata": {
  "kernelspec": {
   "display_name": "Python 3",
   "language": "python",
   "name": "python3"
  },
  "language_info": {
   "codemirror_mode": {
    "name": "ipython",
    "version": 3
   },
   "file_extension": ".py",
   "mimetype": "text/x-python",
   "name": "python",
   "nbconvert_exporter": "python",
   "pygments_lexer": "ipython3",
   "version": "3.8.8"
  }
 },
 "nbformat": 4,
 "nbformat_minor": 5
}
