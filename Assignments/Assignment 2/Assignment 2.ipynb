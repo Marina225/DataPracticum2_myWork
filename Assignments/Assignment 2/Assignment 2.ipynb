{
 "cells": [
  {
   "cell_type": "markdown",
   "id": "ef4f8e9e",
   "metadata": {},
   "source": [
    "# Assignment 2"
   ]
  },
  {
   "cell_type": "markdown",
   "id": "d250279c",
   "metadata": {},
   "source": [
    "## Instructions:"
   ]
  },
  {
   "cell_type": "markdown",
   "id": "7ee6e507",
   "metadata": {},
   "source": [
    "Use loops, if/else etc. to write a program that prints the letter Z."
   ]
  },
  {
   "cell_type": "markdown",
   "id": "bfde847b",
   "metadata": {},
   "source": [
    "## Code:"
   ]
  },
  {
   "cell_type": "code",
   "execution_count": 43,
   "id": "f8431c85",
   "metadata": {},
   "outputs": [
    {
     "name": "stdout",
     "output_type": "stream",
     "text": [
      "*******\n",
      "     *\n",
      "    *\n",
      "   *\n",
      "  *\n",
      " *\n",
      "*******\n"
     ]
    }
   ],
   "source": [
    "ind_list = [0,1,2,3,4,5,6]\n",
    "k = 0\n",
    "\n",
    "for i in ind_list:\n",
    "    if i == 0 or i == len(ind_list)-1:\n",
    "        print(\"*\" * len(ind_list))\n",
    "    else:\n",
    "        before = len(ind_list) -1 -k\n",
    "        print(\" \" * before + \"*\")\n",
    "    k += 1"
   ]
  }
 ],
 "metadata": {
  "kernelspec": {
   "display_name": "Python 3",
   "language": "python",
   "name": "python3"
  },
  "language_info": {
   "codemirror_mode": {
    "name": "ipython",
    "version": 3
   },
   "file_extension": ".py",
   "mimetype": "text/x-python",
   "name": "python",
   "nbconvert_exporter": "python",
   "pygments_lexer": "ipython3",
   "version": "3.8.8"
  }
 },
 "nbformat": 4,
 "nbformat_minor": 5
}
