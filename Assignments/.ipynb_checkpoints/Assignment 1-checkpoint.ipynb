{
 "cells": [
  {
   "cell_type": "markdown",
   "id": "234d82fa",
   "metadata": {},
   "source": [
    "# Assignment 1"
   ]
  },
  {
   "cell_type": "markdown",
   "id": "a644a588",
   "metadata": {},
   "source": [
    "given the list:"
   ]
  },
  {
   "cell_type": "code",
   "execution_count": 4,
   "id": "ca198355",
   "metadata": {},
   "outputs": [],
   "source": [
    "my_list = [2,5,7,3,8,9,5,7,4,6,2,3,6,8,7,6,9,7,4,5,6,3]"
   ]
  },
  {
   "cell_type": "markdown",
   "id": "8f44fc48",
   "metadata": {},
   "source": [
    "write the code that generates a list my_ind, which contains the indeces of the\n",
    "values from my_list that are bigger than 7 or smaller than 3"
   ]
  },
  {
   "cell_type": "markdown",
   "id": "2365d0fb",
   "metadata": {},
   "source": [
    "code:"
   ]
  },
  {
   "cell_type": "code",
   "execution_count": 6,
   "id": "3ce84b88",
   "metadata": {},
   "outputs": [
    {
     "name": "stdout",
     "output_type": "stream",
     "text": [
      "[2]\n",
      "[2, 8]\n",
      "[2, 8, 9]\n",
      "[2, 8, 9, 2]\n",
      "[2, 8, 9, 2, 8]\n",
      "[2, 8, 9, 2, 8, 9]\n"
     ]
    }
   ],
   "source": [
    "my_list = [2,5,7,3,8,9,5,7,4,6,2,3,6,8,7,6,9,7,4,5,6,3]\n",
    "my_ind = []\n",
    "for i in my_list:\n",
    "    if i > 7 or i < 3:\n",
    "        my_ind.append(i)\n",
    "        print(my_ind)"
   ]
  }
 ],
 "metadata": {
  "kernelspec": {
   "display_name": "Python 3",
   "language": "python",
   "name": "python3"
  },
  "language_info": {
   "codemirror_mode": {
    "name": "ipython",
    "version": 3
   },
   "file_extension": ".py",
   "mimetype": "text/x-python",
   "name": "python",
   "nbconvert_exporter": "python",
   "pygments_lexer": "ipython3",
   "version": "3.8.8"
  }
 },
 "nbformat": 4,
 "nbformat_minor": 5
}
