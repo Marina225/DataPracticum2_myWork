{
 "cells": [
  {
   "cell_type": "markdown",
   "id": "0e0eae37",
   "metadata": {},
   "source": [
    "# Assignment 4"
   ]
  },
  {
   "cell_type": "markdown",
   "id": "0992d3ae",
   "metadata": {},
   "source": [
    "## Instructions\n",
    "\n",
    "write a class called AboutIris with four methods\n",
    "\n",
    "        • a method that reads the data file iris.data.head.csv into a data frame\n",
    "        • a method that calculates the mean and standard deviation of the first four columns for the class Iris-setosa. The results should be returned as a list\n",
    "        • a method that calculates the mean and standard deviation of the first four columns for the class Iris-versicolor. The results should be returned as a list\n",
    "        • a method that calculates the mean and standard deviation of the first four columns for the class Iris-virginica. The results should be returned as a list\n",
    "\n",
    "• run the four methods of the class and print the returned value of the last three methods\n",
    "\n",
    "• upload a ZIP file that contains both the notebook file and the CSV file"
   ]
  },
  {
   "cell_type": "markdown",
   "id": "6daff7ae",
   "metadata": {},
   "source": [
    "## Code"
   ]
  },
  {
   "cell_type": "code",
   "execution_count": 85,
   "id": "a70d814f",
   "metadata": {},
   "outputs": [
    {
     "data": {
      "text/html": [
       "<div>\n",
       "<style scoped>\n",
       "    .dataframe tbody tr th:only-of-type {\n",
       "        vertical-align: middle;\n",
       "    }\n",
       "\n",
       "    .dataframe tbody tr th {\n",
       "        vertical-align: top;\n",
       "    }\n",
       "\n",
       "    .dataframe thead th {\n",
       "        text-align: right;\n",
       "    }\n",
       "</style>\n",
       "<table border=\"1\" class=\"dataframe\">\n",
       "  <thead>\n",
       "    <tr style=\"text-align: right;\">\n",
       "      <th></th>\n",
       "      <th>sepal_length</th>\n",
       "      <th>sepal_width</th>\n",
       "      <th>petal_length</th>\n",
       "      <th>petal_width</th>\n",
       "      <th>class</th>\n",
       "    </tr>\n",
       "  </thead>\n",
       "  <tbody>\n",
       "    <tr>\n",
       "      <th>0</th>\n",
       "      <td>5.1</td>\n",
       "      <td>3.5</td>\n",
       "      <td>1.4</td>\n",
       "      <td>0.2</td>\n",
       "      <td>Iris-setosa</td>\n",
       "    </tr>\n",
       "    <tr>\n",
       "      <th>1</th>\n",
       "      <td>4.9</td>\n",
       "      <td>3.0</td>\n",
       "      <td>1.4</td>\n",
       "      <td>0.2</td>\n",
       "      <td>Iris-setosa</td>\n",
       "    </tr>\n",
       "    <tr>\n",
       "      <th>2</th>\n",
       "      <td>4.7</td>\n",
       "      <td>3.2</td>\n",
       "      <td>1.3</td>\n",
       "      <td>0.2</td>\n",
       "      <td>Iris-setosa</td>\n",
       "    </tr>\n",
       "    <tr>\n",
       "      <th>3</th>\n",
       "      <td>4.6</td>\n",
       "      <td>3.1</td>\n",
       "      <td>1.5</td>\n",
       "      <td>0.2</td>\n",
       "      <td>Iris-setosa</td>\n",
       "    </tr>\n",
       "    <tr>\n",
       "      <th>4</th>\n",
       "      <td>5.0</td>\n",
       "      <td>3.6</td>\n",
       "      <td>1.4</td>\n",
       "      <td>0.2</td>\n",
       "      <td>Iris-setosa</td>\n",
       "    </tr>\n",
       "    <tr>\n",
       "      <th>...</th>\n",
       "      <td>...</td>\n",
       "      <td>...</td>\n",
       "      <td>...</td>\n",
       "      <td>...</td>\n",
       "      <td>...</td>\n",
       "    </tr>\n",
       "    <tr>\n",
       "      <th>145</th>\n",
       "      <td>6.7</td>\n",
       "      <td>3.0</td>\n",
       "      <td>5.2</td>\n",
       "      <td>2.3</td>\n",
       "      <td>Iris-virginica</td>\n",
       "    </tr>\n",
       "    <tr>\n",
       "      <th>146</th>\n",
       "      <td>6.3</td>\n",
       "      <td>2.5</td>\n",
       "      <td>5.0</td>\n",
       "      <td>1.9</td>\n",
       "      <td>Iris-virginica</td>\n",
       "    </tr>\n",
       "    <tr>\n",
       "      <th>147</th>\n",
       "      <td>6.5</td>\n",
       "      <td>3.0</td>\n",
       "      <td>5.2</td>\n",
       "      <td>2.0</td>\n",
       "      <td>Iris-virginica</td>\n",
       "    </tr>\n",
       "    <tr>\n",
       "      <th>148</th>\n",
       "      <td>6.2</td>\n",
       "      <td>3.4</td>\n",
       "      <td>5.4</td>\n",
       "      <td>2.3</td>\n",
       "      <td>Iris-virginica</td>\n",
       "    </tr>\n",
       "    <tr>\n",
       "      <th>149</th>\n",
       "      <td>5.9</td>\n",
       "      <td>3.0</td>\n",
       "      <td>5.1</td>\n",
       "      <td>1.8</td>\n",
       "      <td>Iris-virginica</td>\n",
       "    </tr>\n",
       "  </tbody>\n",
       "</table>\n",
       "<p>150 rows × 5 columns</p>\n",
       "</div>"
      ],
      "text/plain": [
       "     sepal_length  sepal_width  petal_length  petal_width           class\n",
       "0             5.1          3.5           1.4          0.2     Iris-setosa\n",
       "1             4.9          3.0           1.4          0.2     Iris-setosa\n",
       "2             4.7          3.2           1.3          0.2     Iris-setosa\n",
       "3             4.6          3.1           1.5          0.2     Iris-setosa\n",
       "4             5.0          3.6           1.4          0.2     Iris-setosa\n",
       "..            ...          ...           ...          ...             ...\n",
       "145           6.7          3.0           5.2          2.3  Iris-virginica\n",
       "146           6.3          2.5           5.0          1.9  Iris-virginica\n",
       "147           6.5          3.0           5.2          2.0  Iris-virginica\n",
       "148           6.2          3.4           5.4          2.3  Iris-virginica\n",
       "149           5.9          3.0           5.1          1.8  Iris-virginica\n",
       "\n",
       "[150 rows x 5 columns]"
      ]
     },
     "execution_count": 85,
     "metadata": {},
     "output_type": "execute_result"
    }
   ],
   "source": [
    "import pandas as pd\n",
    "\n",
    "df = pd.read_csv(\"iris.data.head.csv\")\n",
    "df"
   ]
  },
  {
   "cell_type": "code",
   "execution_count": 86,
   "id": "d6a416bf",
   "metadata": {},
   "outputs": [],
   "source": [
    "class EditIris():\n",
    "    df = pd.DataFrame([], columns=['sepal_length', 'sepal_width', 'petal_length', 'petal_width','class'])\n",
    "    \n",
    "    def __init__(self,df=\"\"):\n",
    "        self.df = df\n",
    "        \n",
    "    def read_table(filename=\"\"):\n",
    "        try:\n",
    "            df = pd.read_csv(\"iris.data.head.csv\")\n",
    "            return df\n",
    "        except Excetption as e:\n",
    "            return e\n",
    "        \n",
    "    def calc_setosa(self):\n",
    "        df_setosa = df.loc[df[\"class\"]==\"Iris-setosa\"]\n",
    "        mean = df_setosa.mean().to_list()\n",
    "        std = df_setosa.std().to_list()\n",
    "        \n",
    "        return print(f\"Means per column are: {mean}. Standard deviations per column are: {std}.\")\n",
    "    \n",
    "    def calc_versicolor(self):\n",
    "        df_versicolor = df.loc[df[\"class\"]==\"Iris-versicolor\"]\n",
    "        mean = df_versicolor.mean().to_list()\n",
    "        std = df_versicolor.std().to_list()\n",
    "        \n",
    "        return print(f\"Means per column are: {mean}. Standard deviations per column are: {std}.\")\n",
    "    \n",
    "    def calc_virginica(self):\n",
    "        df_virginica = df.loc[df[\"class\"]==\"Iris-virginica\"]\n",
    "        mean = df_virginica.mean().to_list()\n",
    "        std = df_virginica.std().to_list()\n",
    "        \n",
    "        return print(f\"Means per column are: {mean}. Standard deviations per column are: {std}.\")\n",
    "        \n",
    "        "
   ]
  },
  {
   "cell_type": "code",
   "execution_count": 83,
   "id": "01907646",
   "metadata": {},
   "outputs": [
    {
     "name": "stdout",
     "output_type": "stream",
     "text": [
      "Means per column are: [5.005999999999999, 3.4180000000000006, 1.464, 0.2439999999999999]. Standard deviations per column are: [0.3524896872134512, 0.38102439795469095, 0.1735111594364455, 0.10720950308167837].\n"
     ]
    }
   ],
   "source": [
    "iris = EditIris()\n",
    "\n",
    "# method 1\n",
    "a = iris.read_table()\n",
    "\n",
    "# method 2 - Setosa\n",
    "iris.calc_setosa()\n"
   ]
  },
  {
   "cell_type": "code",
   "execution_count": 81,
   "id": "94412aec",
   "metadata": {},
   "outputs": [
    {
     "name": "stdout",
     "output_type": "stream",
     "text": [
      "Means per column are: [5.936, 2.7700000000000005, 4.26, 1.3259999999999998]. Standard deviations per column are: [0.5161711470638635, 0.3137983233784114, 0.46991097723995806, 0.197752680004544].\n"
     ]
    }
   ],
   "source": [
    "# method 3 - Versicolor\n",
    "iris.calc_versicolor()\n"
   ]
  },
  {
   "cell_type": "code",
   "execution_count": 84,
   "id": "719e81fa",
   "metadata": {},
   "outputs": [
    {
     "name": "stdout",
     "output_type": "stream",
     "text": [
      "Means per column are: [6.587999999999998, 2.9739999999999998, 5.552, 2.026]. Standard deviations per column are: [0.635879593274432, 0.3224966381726376, 0.5518946956639835, 0.27465005563666733].\n"
     ]
    }
   ],
   "source": [
    "# method 4 - virginica\n",
    "iris.calc_virginica()"
   ]
  },
  {
   "cell_type": "code",
   "execution_count": null,
   "id": "c857c346",
   "metadata": {},
   "outputs": [],
   "source": []
  }
 ],
 "metadata": {
  "kernelspec": {
   "display_name": "Python 3",
   "language": "python",
   "name": "python3"
  },
  "language_info": {
   "codemirror_mode": {
    "name": "ipython",
    "version": 3
   },
   "file_extension": ".py",
   "mimetype": "text/x-python",
   "name": "python",
   "nbconvert_exporter": "python",
   "pygments_lexer": "ipython3",
   "version": "3.8.8"
  }
 },
 "nbformat": 4,
 "nbformat_minor": 5
}
